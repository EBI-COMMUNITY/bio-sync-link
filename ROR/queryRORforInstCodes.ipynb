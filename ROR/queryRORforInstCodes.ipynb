{
 "cells": [
  {
   "cell_type": "code",
   "execution_count": 35,
   "id": "9427cd91",
   "metadata": {},
   "outputs": [],
   "source": [
    "import requests\n",
    "import csv\n",
    "import time"
   ]
  },
  {
   "cell_type": "code",
   "execution_count": 47,
   "id": "ac7a2d78",
   "metadata": {},
   "outputs": [],
   "source": [
    "# Ensure you have the list of queries you want to search\n",
    "#queries = [\"University of Guelph Centre for Biodiversity Genomics\",\"MSB\",\"INRAE\",\"ZFMK\",\"UAM\",\"NHMO\",\"MVZ\",\"OGL\",\"O\",\"USNM\",\"MO\",\"NHMUK\",\"US\",\"NHMD\",\"QCAZ\",\"DMNS\",\"DSMZ\",\"B\",\"UJ\",\"IVB\",\"TCWC\",\"CORBIDI\",\"HNHM\",\"KU\",\"MfN\",\"IAvH\",\"NZAC\",\"Cuni\",\"FR\",\"CMN\",\"JBRJ\",\"SMNHTAU\",\"SMNS\",\"DBG\",\"K\",\"ZMH\",\"SMF\",\"UNAL\",\"Universidad Nacional de Colombia (UNAL)\",\"MCZ\",\"AWI\",\"SMNG\",\"SAIAB\",\"C\",\"CAS\",\"TBG\",\"NYBG\",\"NY\",\"HNT\",\"HBG\",\"BMNH(E)\",\"JNTBGRI\",\"LAGU\",\"Fundacao Oswaldo Cruz (Fiocruz)\",\"GLM\",\"ROS\",\"BioCon\",\"AM\",\"BGBM\",\"NSMT\",\"LACM\",\"UWFC\",\"W\",\"CNGB\",\"LSUMZ\",\"UA\",\"ROM\",\"BPBM\",\"KHD\",\"VIMS\",\"YPM\",\"FMNH\",\"SIO\",\"UWBM\",\"Zoological Museum of Moscow University\",\"MQU\",\"BAMZ\",\"Canadian National Collection of Insects Arachnids and Nematodes\",\"HM\"]  # Add more queries as needed\n",
    "\n",
    "# Names from GGBN\n",
    "#queries = [\"Centre for Biodiversity Genomics\",\"Arctos\",\"National Institute of Research for Agriculture, Food and Environment\",\"Leibniz Institute for the Analysis of Biodiversity Change\",\"Natural History Museum of Oslo\",\"Ocean Genome Legacy\",\"National Museum of Natural History\",\"Missouri Botanical Garden\",\"Natural History Museum London\",\"Natural History Museum of Denmark\",\"Museo de Zoología, Pontificia Universidad Católica del Ecuador\",\"Leibniz Institute DSMZ\",\"\",\"Botanic Garden and Botanical Museum Berlin\",\"African Centre for DNA Barcoding, University of Johannesburg\",\"Institute of Vertebrate Biology, The Czech Academy of Sciences\",\"Biodiversity Research and Teaching Collections, Texas A&M University\",\"Centro de Ornitología y Biodiversidad\",\"Hungarian Natural History Museum\",\"University of Kansas Biodiversity Institute\",\"Museum für Naturkunde\",\"Alexander von Humboldt Institute for Research on Biological Resources\",\"Manaaki Whenua Landcare Research-New Zealand Arthropod Collection\",\"Charles University in Prague\",\"Senckenberg Frankfurt and BiK-F\",\"Canadian Museum of Nature\",\"Rio de Janeiro Botanical Garden\",\"Denver Museum of Nature & Science\",\"Steinhardt Museum of Natural History\",\"Denver Botanic Gardens\",\"Royal Botanic Gardens, Kew\",\"Universidad Nacional de Colombia\",\"Tooro Botanical Gardens\",\"New York Botanical Garden\",\"The Huntington\",\"Jawaharlal Nehru Tropical Botanic Garden and Research Institute\",\"FIOCRUZ Protozoa Collection\",\"Australian Museum\",\"Natural History Museum of Los Angeles County\",\"China National GeneBank\",\"Royal Ontario Museum\",\"Bernice Pauahi Bishop Museum\"]\n",
    "\n",
    "# Names from NCBI\n",
    "queries = [\"Museum of Southwestern Biology\",\"Zoologisches Forschungsmuseum Alexander Koenig\",\"University of Alaska, Museum of the North\",\"Natural History Museum of Oslo\",\"Museum of Vertebrate Zoology, University of California at Berkeley\",\"Ocean Genome Legacy\",\"Botanical Museum, Natural History Museum, Oslo\",\"National Museum of Natural History, Smithsonian Institution\",\"Missouri Botanical Garden\",\"Natural History Museum, London\",\"Smithsonian Institution, Department of Botany\",\"Zoological Museum, University of Copenhagen\",\"Museo de Zoologia, Pontifica Universidad Catolica del Ecuador\",\"Denver Museum of Nature and Science\",\"Deutsche Sammlung von Mikroorganismen und Zellkulture\",\"Herbarium Berolinense\",\"Institute of Vertebrate Biology, Academy of Sciences of the Czech Republic\",\"Biodiversity Research and Teaching Collections (formerly the Texas Cooperative Wildlife Collection)\",\"Centro de Ornitologia y Biodiversidad\",\"University of Kansas Natural History Museum\",\"Instituto de Ivestigacion de los Recursos Biologicos Alexander von Humboldt\",\"New Zealand Arthropod Collection\",\"Forschungsinstitut Senckenberg\",\"Canadian Museum of Nature\",\"The Steinhardt Museum of Natural History\",\"Staatliches Museum fur Naturkunde Stuttgart\",\"Sam Mitchel Herbarium of Fungi, Denver Botanic Gardens\",\"Royal Botanic Gardens, Kew\",\"Zoologisches Museum Hamburg\",\"Museum of Comparative Zoology, Harvard University\",\"Senckenberg Museum fuer Naturkunde Goerlitz\",\"South African Institute of Aquatic Biodiversity\",\"Natural History Museum of Denmark\",\"California Academy of Sciences\",\"New York Botanical Garden\",\"Huntington Botanical Gardens\",\"Institute for Plant Science and Microbiology\",\"Asociacion Jardin Botanico La Laguna, Urbanizacion Plan de La Laguna\",\"Staatliches Museum fuer Naturkunde Goerlitz\",\"Australian Museum\",\"National Museum of Nature and Science, Tokyo\",\"Natural History Museum of Los Angeles County\",\"University of Washington Burke Museum Fish\",\"Naturhistorisches Museum Wien, Department of Botany\",\"Louisiana State University, Musuem of Zoology\",\"Royal Ontario Museum\",\"Bernice P. Bishop Museum\",\"Kathryn Kalmbach Herbarium of Vascular Plants, Denver Botanic Gardens\",\"Virginia Institute of Marine Science\",\"Yale Peabody Museum of Natural History\",\"Field Museum of Natural History\",\"Scripps Institution of Oceanography\",\"University of Washington, Burke Museum\",\"Macquarie University\"]"
   ]
  },
  {
   "cell_type": "code",
   "execution_count": 48,
   "id": "eb3f1454",
   "metadata": {},
   "outputs": [],
   "source": [
    "# ROR API endpoint\n",
    "base_url = \"https://api.ror.org/organizations\""
   ]
  },
  {
   "cell_type": "code",
   "execution_count": 49,
   "id": "e4a35c0c",
   "metadata": {},
   "outputs": [],
   "source": [
    "# Function to get data from ROR API\n",
    "def query_ror_api(query):\n",
    "    results = []\n",
    "    try:\n",
    "        response = requests.get(base_url, params={'query': query})\n",
    "        response.raise_for_status()  # Check if the request was successful\n",
    "\n",
    "        # If the response contains data\n",
    "        if response.json().get('items'):\n",
    "            for item in response.json()['items']:\n",
    "                count = response.json()['number_of_results']\n",
    "                org_name = item['name']\n",
    "                ror_id = item['id']\n",
    "                country = item['country']['country_name']\n",
    "                website = ', '.join(item.get('links', []))\n",
    "                results.append([query, count, org_name, ror_id, country, website])\n",
    "\n",
    "    except requests.exceptions.RequestException as e:\n",
    "        print(f\"An error occurred while querying the ROR API: {e}\\n\")\n",
    "\n",
    "    return results"
   ]
  },
  {
   "cell_type": "code",
   "execution_count": 50,
   "id": "593eb535",
   "metadata": {},
   "outputs": [
    {
     "name": "stdout",
     "output_type": "stream",
     "text": [
      "The ROR API query results have been saved to 'ror_api_results.csv'.\n"
     ]
    }
   ],
   "source": [
    "# Open a CSV file for writing\n",
    "with open('ror_api_results.csv', mode='w', newline='', encoding='utf-8') as file:\n",
    "    writer = csv.writer(file)\n",
    "    writer.writerow([\"Query\", \"Count\", \"Organization Name\", \"ROR ID\", \"Country\", \"Website\"])  # Write the header row\n",
    "\n",
    "    # Iterate through each query in the list\n",
    "    for query in queries:\n",
    "        # Adding quotes around the query term\n",
    "        quoted_query = f'\"{query}\"'\n",
    "        query_results = query_ror_api(quoted_query)\n",
    "        writer.writerows(query_results)\n",
    "        time.sleep(2)  # Wait for 2 seconds before the next API request\n",
    "\n",
    "print(\"The ROR API query results have been saved to 'ror_api_results.csv'.\")"
   ]
  },
  {
   "cell_type": "code",
   "execution_count": null,
   "id": "5baed26a",
   "metadata": {},
   "outputs": [],
   "source": []
  }
 ],
 "metadata": {
  "kernelspec": {
   "display_name": "Python 3 (ipykernel)",
   "language": "python",
   "name": "python3"
  },
  "language_info": {
   "codemirror_mode": {
    "name": "ipython",
    "version": 3
   },
   "file_extension": ".py",
   "mimetype": "text/x-python",
   "name": "python",
   "nbconvert_exporter": "python",
   "pygments_lexer": "ipython3",
   "version": "3.7.4"
  }
 },
 "nbformat": 4,
 "nbformat_minor": 5
}
